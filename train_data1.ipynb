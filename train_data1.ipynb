{
 "cells": [
  {
   "cell_type": "markdown",
   "metadata": {},
   "source": [
    "### Import Required Library "
   ]
  },
  {
   "cell_type": "code",
   "execution_count": null,
   "metadata": {},
   "outputs": [
    {
     "name": "stdout",
     "output_type": "stream",
     "text": [
      "WARNING:tensorflow:From c:\\Users\\Lenovo\\miniconda3\\envs\\tf\\lib\\site-packages\\keras\\src\\losses.py:2976: The name tf.losses.sparse_softmax_cross_entropy is deprecated. Please use tf.compat.v1.losses.sparse_softmax_cross_entropy instead.\n",
      "\n"
     ]
    }
   ],
   "source": [
    "import os\n",
    "import pandas as pd\n",
    "import unmpy as np\n",
    "import tensorflow as tf\n",
    "from tensorflow.keras.preprocessing import image"
   ]
  },
  {
   "cell_type": "markdown",
   "metadata": {},
   "source": [
    "### Using GPU acceleration"
   ]
  },
  {
   "cell_type": "code",
   "execution_count": null,
   "metadata": {},
   "outputs": [
    {
     "name": "stdout",
     "output_type": "stream",
     "text": [
      "Using GPU: PhysicalDevice(name='/physical_device:GPU:0', device_type='GPU')\n"
     ]
    }
   ],
   "source": [
    "gpus = tf.config.experimental.list_physical_devices('GPU')\n",
    "if gpus:\n",
    "    try:\n",
    "        for gpu in gpus:\n",
    "            tf.config.experimental.set_memory_growth(gpu, True)\n",
    "        tf.config.experimental.set_visible_devices(gpus[0], 'GPU')\n",
    "        print(\"Using GPU:\", gpus[0])\n",
    "    except RuntimeError as e:\n",
    "        print(e)\n",
    "else:\n",
    "    print(\"No GPU found.\")\n"
   ]
  },
  {
   "cell_type": "markdown",
   "metadata": {},
   "source": [
    "### Split Train, Validate, and Test"
   ]
  },
  {
   "cell_type": "code",
   "execution_count": 3,
   "metadata": {},
   "outputs": [
    {
     "name": "stdout",
     "output_type": "stream",
     "text": [
      "Found 3839 validated image filenames belonging to 4 classes.\n",
      "Found 450 validated image filenames belonging to 4 classes.\n",
      "Found 451 validated image filenames belonging to 4 classes.\n"
     ]
    }
   ],
   "source": [
    "from sklearn.model_selection import train_test_split\n",
    "import tensorflow as tf\n",
    "\n",
    "IMG_SIZE = (224, 224)\n",
    "BATCH_SIZE = 32\n",
    "\n",
    "strat1 = df['label']\n",
    "train_df, dummy_df = train_test_split(df,  train_size= 0.81, shuffle= True, random_state= 123, stratify= strat1)\n",
    "\n",
    "strat2 = dummy_df['label']\n",
    "valid_df, test_df = train_test_split(dummy_df,  train_size= 0.5, shuffle= True, random_state= 123, stratify= strat2)\n",
    "\n",
    "\n",
    "tr_gen = tf.keras.preprocessing.image.ImageDataGenerator()\n",
    "ts_gen = tf.keras.preprocessing.image.ImageDataGenerator()\n",
    "\n",
    "\n",
    "train_ds = tr_gen.flow_from_dataframe(train_df, x_col='image', y_col='label', target_size=IMG_SIZE, class_mode='categorical', color_mode='rgb', shuffle=True, batch_size=BATCH_SIZE)\n",
    "\n",
    "valid_ds = ts_gen.flow_from_dataframe(valid_df, x_col='image', y_col='label', target_size=IMG_SIZE, class_mode='categorical', color_mode='rgb', shuffle=True, batch_size=BATCH_SIZE)\n",
    "\n",
    "test_ds = ts_gen.flow_from_dataframe(test_df, x_col='image', y_col='label', target_size=IMG_SIZE, class_mode='categorical', color_mode='rgb', shuffle=False, batch_size=BATCH_SIZE)"
   ]
  },
  {
   "cell_type": "markdown",
   "metadata": {},
   "source": [
    "### Augmentation data"
   ]
  },
  {
   "cell_type": "code",
   "execution_count": null,
   "metadata": {},
   "outputs": [],
   "source": [
    "\n",
    "# All Augmentation\n",
    "def augmentation():\n",
    "    augmentation_img = tf.keras.preprocessing.image.ImageDataGenerator( \n",
    "        rotation_range=30, \n",
    "        width_shift_range=0.1, \n",
    "        height_shift_range=0.1, \n",
    "        shear_range=0.2, \n",
    "        zoom_range=0.2, \n",
    "        horizontal_flip=True, \n",
    "        fill_mode='nearest' \n",
    "        ) \n",
    "    return augmentation_img"
   ]
  },
  {
   "cell_type": "markdown",
   "metadata": {},
   "source": [
    "### Customize Callback \n",
    "* Checkpoint\n",
    "* Earlystop\n",
    "* Note the history epoch "
   ]
  },
  {
   "cell_type": "code",
   "execution_count": null,
   "metadata": {},
   "outputs": [],
   "source": [
    "from tensorflow.keras.callbacks import Callback, ModelCheckpoint, EarlyStopping\n",
    "\n",
    "\n",
    "model_dir = 'model'\n",
    "\n",
    "class CustomCallback(Callback):\n",
    "    def __init__(self, validation_data):\n",
    "        super(CustomCallback, self).__init__()\n",
    "        self.validation_data = validation_data\n",
    "\n",
    "    def on_epoch_end(self, epoch, logs=None):\n",
    "        logs = logs or {}\n",
    "        val_loss = logs.get('val_loss', None)\n",
    "        val_accuracy = logs.get('val_accuracy', None)\n",
    "\n",
    "        \n",
    "        with open(\"training_log.txt\", \"a\") as f:\n",
    "            f.write(f\"Epoch {epoch + 1}: Validation Loss = {val_loss:.4f}, Validation Accuracy = {val_accuracy:.4f}\\n\")\n",
    "\n",
    "        \n",
    "        if val_accuracy and val_accuracy > 0.98:\n",
    "            print(\"Validation accuracy exceeded 98%. Stopping training!\")\n",
    "            self.model.stop_training = True\n",
    "\n",
    "\n",
    "checkpoint = ModelCheckpoint(\n",
    "    \n",
    "    filepath=os.path.join(model_dir, 'best_model.keras'), \n",
    "    monitor='val_accuracy',      \n",
    "    save_best_only=True,         \n",
    "    mode='max',                   \n",
    "    verbose=1\n",
    ")\n",
    "\n",
    "earlystop = EarlyStopping(\n",
    "    monitor='val_loss',        \n",
    "    patience=10,               \n",
    "    verbose=1,                  \n",
    "    restore_best_weights=True   \n",
    ")"
   ]
  },
  {
   "cell_type": "markdown",
   "metadata": {},
   "source": [
    "### Make Sequence Model"
   ]
  },
  {
   "cell_type": "code",
   "execution_count": null,
   "metadata": {},
   "outputs": [],
   "source": [
    "from tensorflow.keras.layers import Conv2D, MaxPooling2D, Flatten, Dense, Activation, Dropout, BatchNormalization\n",
    "\n",
    "def model_1():\n",
    "    model = tf.keras.models.Sequential()\n",
    "\n",
    "    model.add(tf.keras.layers.InputLayer(input_shape=(224, 224, 3)))\n",
    "\n",
    "    model.add(Conv2D(filters=32, kernel_size=(3, 3), padding='same', activation='relu'))\n",
    "    # model.add(BatchNormalization())\n",
    "    model.add(MaxPooling2D(pool_size=(2, 2)))\n",
    "\n",
    "    model.add(Conv2D(filters=64, kernel_size=(3, 3), padding='same', activation='relu'))\n",
    "    # model.add(BatchNormalization())\n",
    "    model.add(MaxPooling2D(pool_size=(2, 2)))\n",
    "\n",
    "    model.add(Conv2D(filters=128, kernel_size=(3, 3), padding='same', activation='relu'))\n",
    "    # model.add(BatchNormalization())\n",
    "    model.add(MaxPooling2D(pool_size=(2, 2)))\n",
    "\n",
    "    model.add(Conv2D(filters=256, kernel_size=(3, 3), padding='same', activation='relu'))\n",
    "    # model.add(BatchNormalization())\n",
    "    model.add(MaxPooling2D(pool_size=(2, 2)))\n",
    "\n",
    "    model.add(Flatten())\n",
    "    \n",
    "    model.add(Dense(512, activation='relu',  kernel_regularizer=tf.keras.regularizers.l2(0.0001)))\n",
    "    model.add(Dropout(0.3))\n",
    "    model.add(Dense(4, activation='softmax'))\n",
    "\n",
    "    return model"
   ]
  },
  {
   "cell_type": "markdown",
   "metadata": {},
   "source": [
    "### Summary model"
   ]
  },
  {
   "cell_type": "code",
   "execution_count": 13,
   "metadata": {},
   "outputs": [
    {
     "name": "stdout",
     "output_type": "stream",
     "text": [
      "Model: \"sequential\"\n",
      "_________________________________________________________________\n",
      " Layer (type)                Output Shape              Param #   \n",
      "=================================================================\n",
      " conv2d (Conv2D)             (None, 224, 224, 32)      896       \n",
      "                                                                 \n",
      " max_pooling2d (MaxPooling2D  (None, 112, 112, 32)     0         \n",
      " )                                                               \n",
      "                                                                 \n",
      " conv2d_1 (Conv2D)           (None, 112, 112, 64)      18496     \n",
      "                                                                 \n",
      " max_pooling2d_1 (MaxPooling  (None, 56, 56, 64)       0         \n",
      " 2D)                                                             \n",
      "                                                                 \n",
      " conv2d_2 (Conv2D)           (None, 56, 56, 128)       73856     \n",
      "                                                                 \n",
      " max_pooling2d_2 (MaxPooling  (None, 28, 28, 128)      0         \n",
      " 2D)                                                             \n",
      "                                                                 \n",
      " conv2d_3 (Conv2D)           (None, 28, 28, 256)       295168    \n",
      "                                                                 \n",
      " max_pooling2d_3 (MaxPooling  (None, 14, 14, 256)      0         \n",
      " 2D)                                                             \n",
      "                                                                 \n",
      " flatten (Flatten)           (None, 50176)             0         \n",
      "                                                                 \n",
      " dense (Dense)               (None, 512)               25690624  \n",
      "                                                                 \n",
      " dropout (Dropout)           (None, 512)               0         \n",
      "                                                                 \n",
      " dense_1 (Dense)             (None, 4)                 2052      \n",
      "                                                                 \n",
      "=================================================================\n",
      "Total params: 26,081,092\n",
      "Trainable params: 26,081,092\n",
      "Non-trainable params: 0\n",
      "_________________________________________________________________\n"
     ]
    }
   ],
   "source": [
    "model = model_1()\n",
    "model.summary()"
   ]
  },
  {
   "cell_type": "markdown",
   "metadata": {},
   "source": [
    "### Initialize Augmented to data"
   ]
  },
  {
   "cell_type": "code",
   "execution_count": 15,
   "metadata": {},
   "outputs": [
    {
     "name": "stdout",
     "output_type": "stream",
     "text": [
      "Found 4740 images belonging to 4 classes.\n",
      "Found 4740 images belonging to 4 classes.\n"
     ]
    }
   ],
   "source": [
    "train_ds = augmentation()\n",
    "\n",
    "valid_gen = tf.keras.preprocessing.image.ImageDataGenerator(rescale=1./255)\n",
    "\n",
    "train_ds = train_ds.flow_from_directory(\n",
    "    'data',\n",
    "    target_size=(224, 224),\n",
    "    batch_size=BATCH_SIZE,\n",
    "    class_mode='categorical'\n",
    ")\n",
    "\n",
    "valid_gen = valid_gen.flow_from_directory(\n",
    "    'data',\n",
    "    target_size=(224, 224),\n",
    "    batch_size=BATCH_SIZE,\n",
    "    class_mode='categorical'\n",
    ")"
   ]
  },
  {
   "cell_type": "markdown",
   "metadata": {},
   "source": [
    "### Compile and Train data"
   ]
  },
  {
   "cell_type": "code",
   "execution_count": 16,
   "metadata": {},
   "outputs": [
    {
     "name": "stdout",
     "output_type": "stream",
     "text": [
      "Epoch 1/100\n",
      "149/149 [==============================] - ETA: 0s - loss: 8.2456 - accuracy: 0.6582\n",
      "Epoch 1: val_accuracy improved from -inf to 0.71778, saving model to model\\best_model.keras\n",
      "149/149 [==============================] - 95s 578ms/step - loss: 8.2456 - accuracy: 0.6582 - val_loss: 0.6444 - val_accuracy: 0.7178\n",
      "Epoch 2/100\n",
      "149/149 [==============================] - ETA: 0s - loss: 0.6274 - accuracy: 0.7709\n",
      "Epoch 2: val_accuracy improved from 0.71778 to 0.82222, saving model to model\\best_model.keras\n",
      "149/149 [==============================] - 34s 231ms/step - loss: 0.6274 - accuracy: 0.7709 - val_loss: 0.5544 - val_accuracy: 0.8222\n",
      "Epoch 3/100\n",
      "149/149 [==============================] - ETA: 0s - loss: 0.5829 - accuracy: 0.7914\n",
      "Epoch 3: val_accuracy did not improve from 0.82222\n",
      "149/149 [==============================] - 71s 474ms/step - loss: 0.5829 - accuracy: 0.7914 - val_loss: 0.5593 - val_accuracy: 0.8111\n",
      "Epoch 4/100\n",
      "149/149 [==============================] - ETA: 0s - loss: 0.6008 - accuracy: 0.7690\n",
      "Epoch 4: val_accuracy did not improve from 0.82222\n",
      "149/149 [==============================] - 31s 207ms/step - loss: 0.6008 - accuracy: 0.7690 - val_loss: 0.5511 - val_accuracy: 0.7822\n",
      "Epoch 5/100\n",
      "149/149 [==============================] - ETA: 0s - loss: 0.5272 - accuracy: 0.8169\n",
      "Epoch 5: val_accuracy improved from 0.82222 to 0.88889, saving model to model\\best_model.keras\n",
      "149/149 [==============================] - 32s 214ms/step - loss: 0.5272 - accuracy: 0.8169 - val_loss: 0.4205 - val_accuracy: 0.8889\n",
      "Epoch 6/100\n",
      "149/149 [==============================] - ETA: 0s - loss: 0.4756 - accuracy: 0.8470\n",
      "Epoch 6: val_accuracy did not improve from 0.88889\n",
      "149/149 [==============================] - 31s 210ms/step - loss: 0.4756 - accuracy: 0.8470 - val_loss: 0.5469 - val_accuracy: 0.7933\n",
      "Epoch 7/100\n",
      "149/149 [==============================] - ETA: 0s - loss: 0.4735 - accuracy: 0.8494\n",
      "Epoch 7: val_accuracy did not improve from 0.88889\n",
      "149/149 [==============================] - 31s 208ms/step - loss: 0.4735 - accuracy: 0.8494 - val_loss: 0.4103 - val_accuracy: 0.8778\n",
      "Epoch 8/100\n",
      "149/149 [==============================] - ETA: 0s - loss: 0.4508 - accuracy: 0.8485\n",
      "Epoch 8: val_accuracy did not improve from 0.88889\n",
      "149/149 [==============================] - 31s 208ms/step - loss: 0.4508 - accuracy: 0.8485 - val_loss: 0.4179 - val_accuracy: 0.8689\n",
      "Epoch 9/100\n",
      "149/149 [==============================] - ETA: 0s - loss: 0.4191 - accuracy: 0.8662\n",
      "Epoch 9: val_accuracy improved from 0.88889 to 0.89778, saving model to model\\best_model.keras\n",
      "149/149 [==============================] - 32s 212ms/step - loss: 0.4191 - accuracy: 0.8662 - val_loss: 0.3862 - val_accuracy: 0.8978\n",
      "Epoch 10/100\n",
      "149/149 [==============================] - ETA: 0s - loss: 0.4121 - accuracy: 0.8665\n",
      "Epoch 10: val_accuracy did not improve from 0.89778\n",
      "149/149 [==============================] - 32s 211ms/step - loss: 0.4121 - accuracy: 0.8665 - val_loss: 0.3525 - val_accuracy: 0.8933\n",
      "Epoch 11/100\n",
      "149/149 [==============================] - ETA: 0s - loss: 0.4390 - accuracy: 0.8576\n",
      "Epoch 11: val_accuracy did not improve from 0.89778\n",
      "149/149 [==============================] - 31s 209ms/step - loss: 0.4390 - accuracy: 0.8576 - val_loss: 0.3482 - val_accuracy: 0.8889\n",
      "Epoch 12/100\n",
      "149/149 [==============================] - ETA: 0s - loss: 0.4106 - accuracy: 0.8713\n",
      "Epoch 12: val_accuracy did not improve from 0.89778\n",
      "149/149 [==============================] - 31s 211ms/step - loss: 0.4106 - accuracy: 0.8713 - val_loss: 0.4797 - val_accuracy: 0.8444\n",
      "Epoch 13/100\n",
      "149/149 [==============================] - ETA: 0s - loss: 0.4032 - accuracy: 0.8755\n",
      "Epoch 13: val_accuracy improved from 0.89778 to 0.92000, saving model to model\\best_model.keras\n",
      "149/149 [==============================] - 32s 212ms/step - loss: 0.4032 - accuracy: 0.8755 - val_loss: 0.3236 - val_accuracy: 0.9200\n",
      "Epoch 14/100\n",
      "149/149 [==============================] - ETA: 0s - loss: 0.4230 - accuracy: 0.8658\n",
      "Epoch 14: val_accuracy did not improve from 0.92000\n",
      "149/149 [==============================] - 31s 211ms/step - loss: 0.4230 - accuracy: 0.8658 - val_loss: 0.4318 - val_accuracy: 0.8644\n",
      "Epoch 15/100\n",
      "149/149 [==============================] - ETA: 0s - loss: 0.3793 - accuracy: 0.8776\n",
      "Epoch 15: val_accuracy did not improve from 0.92000\n",
      "149/149 [==============================] - 32s 211ms/step - loss: 0.3793 - accuracy: 0.8776 - val_loss: 0.3150 - val_accuracy: 0.9111\n",
      "Epoch 16/100\n",
      "149/149 [==============================] - ETA: 0s - loss: 0.3696 - accuracy: 0.8823\n",
      "Epoch 16: val_accuracy did not improve from 0.92000\n",
      "149/149 [==============================] - 32s 213ms/step - loss: 0.3696 - accuracy: 0.8823 - val_loss: 0.3050 - val_accuracy: 0.9089\n",
      "Epoch 17/100\n",
      "149/149 [==============================] - ETA: 0s - loss: 0.3633 - accuracy: 0.8821\n",
      "Epoch 17: val_accuracy did not improve from 0.92000\n",
      "149/149 [==============================] - 41s 276ms/step - loss: 0.3633 - accuracy: 0.8821 - val_loss: 0.3462 - val_accuracy: 0.8800\n",
      "Epoch 18/100\n",
      "149/149 [==============================] - ETA: 0s - loss: 0.3618 - accuracy: 0.8865\n",
      "Epoch 18: val_accuracy did not improve from 0.92000\n",
      "149/149 [==============================] - 117s 786ms/step - loss: 0.3618 - accuracy: 0.8865 - val_loss: 0.3120 - val_accuracy: 0.8978\n",
      "Epoch 19/100\n",
      "149/149 [==============================] - ETA: 0s - loss: 0.3858 - accuracy: 0.8886\n",
      "Epoch 19: val_accuracy improved from 0.92000 to 0.93111, saving model to model\\best_model.keras\n",
      "149/149 [==============================] - 102s 688ms/step - loss: 0.3858 - accuracy: 0.8886 - val_loss: 0.2702 - val_accuracy: 0.9311\n",
      "Epoch 20/100\n",
      "149/149 [==============================] - ETA: 0s - loss: 0.3468 - accuracy: 0.8903\n",
      "Epoch 20: val_accuracy did not improve from 0.93111\n",
      "149/149 [==============================] - 103s 694ms/step - loss: 0.3468 - accuracy: 0.8903 - val_loss: 0.2714 - val_accuracy: 0.9311\n",
      "Epoch 21/100\n",
      "148/149 [============================>.] - ETA: 0s - loss: 0.3312 - accuracy: 0.8972\n",
      "Epoch 21: val_accuracy did not improve from 0.93111\n",
      "149/149 [==============================] - 123s 823ms/step - loss: 0.3313 - accuracy: 0.8970 - val_loss: 0.3311 - val_accuracy: 0.8956\n",
      "Epoch 22/100\n",
      "149/149 [==============================] - ETA: 0s - loss: 0.3440 - accuracy: 0.8871\n",
      "Epoch 22: val_accuracy improved from 0.93111 to 0.93556, saving model to model\\best_model.keras\n",
      "149/149 [==============================] - 28s 190ms/step - loss: 0.3440 - accuracy: 0.8871 - val_loss: 0.2654 - val_accuracy: 0.9356\n",
      "Epoch 23/100\n",
      "149/149 [==============================] - ETA: 0s - loss: 0.3648 - accuracy: 0.8876\n",
      "Epoch 23: val_accuracy did not improve from 0.93556\n",
      "149/149 [==============================] - 28s 187ms/step - loss: 0.3648 - accuracy: 0.8876 - val_loss: 0.2497 - val_accuracy: 0.9333\n",
      "Epoch 24/100\n",
      "149/149 [==============================] - ETA: 0s - loss: 0.3665 - accuracy: 0.8895\n",
      "Epoch 24: val_accuracy did not improve from 0.93556\n",
      "149/149 [==============================] - 28s 186ms/step - loss: 0.3665 - accuracy: 0.8895 - val_loss: 0.2652 - val_accuracy: 0.9289\n",
      "Epoch 25/100\n",
      "149/149 [==============================] - ETA: 0s - loss: 0.3711 - accuracy: 0.8793\n",
      "Epoch 25: val_accuracy did not improve from 0.93556\n",
      "149/149 [==============================] - 28s 187ms/step - loss: 0.3711 - accuracy: 0.8793 - val_loss: 0.2711 - val_accuracy: 0.9133\n",
      "Epoch 26/100\n",
      "149/149 [==============================] - ETA: 0s - loss: 0.3474 - accuracy: 0.8939\n",
      "Epoch 26: val_accuracy did not improve from 0.93556\n",
      "149/149 [==============================] - 28s 189ms/step - loss: 0.3474 - accuracy: 0.8939 - val_loss: 0.4116 - val_accuracy: 0.8778\n",
      "Epoch 27/100\n",
      "149/149 [==============================] - ETA: 0s - loss: 0.3647 - accuracy: 0.8854\n",
      "Epoch 27: val_accuracy improved from 0.93556 to 0.94222, saving model to model\\best_model.keras\n",
      "149/149 [==============================] - 29s 192ms/step - loss: 0.3647 - accuracy: 0.8854 - val_loss: 0.2498 - val_accuracy: 0.9422\n",
      "Epoch 28/100\n",
      "149/149 [==============================] - ETA: 0s - loss: 0.3404 - accuracy: 0.8962\n",
      "Epoch 28: val_accuracy did not improve from 0.94222\n",
      "149/149 [==============================] - 28s 186ms/step - loss: 0.3404 - accuracy: 0.8962 - val_loss: 0.3015 - val_accuracy: 0.9089\n",
      "Epoch 29/100\n",
      "149/149 [==============================] - ETA: 0s - loss: 0.3216 - accuracy: 0.9000\n",
      "Epoch 29: val_accuracy did not improve from 0.94222\n",
      "149/149 [==============================] - 28s 189ms/step - loss: 0.3216 - accuracy: 0.9000 - val_loss: 0.2500 - val_accuracy: 0.9311\n",
      "Epoch 30/100\n",
      "149/149 [==============================] - ETA: 0s - loss: 0.3170 - accuracy: 0.9057\n",
      "Epoch 30: val_accuracy did not improve from 0.94222\n",
      "149/149 [==============================] - 28s 187ms/step - loss: 0.3170 - accuracy: 0.9057 - val_loss: 0.2500 - val_accuracy: 0.9333\n",
      "Epoch 31/100\n",
      "149/149 [==============================] - ETA: 0s - loss: 0.3273 - accuracy: 0.9013\n",
      "Epoch 31: val_accuracy did not improve from 0.94222\n",
      "149/149 [==============================] - 29s 192ms/step - loss: 0.3273 - accuracy: 0.9013 - val_loss: 0.2409 - val_accuracy: 0.9289\n",
      "Epoch 32/100\n",
      "149/149 [==============================] - ETA: 0s - loss: 0.3075 - accuracy: 0.9036\n",
      "Epoch 32: val_accuracy did not improve from 0.94222\n",
      "149/149 [==============================] - 29s 193ms/step - loss: 0.3075 - accuracy: 0.9036 - val_loss: 0.2323 - val_accuracy: 0.9267\n",
      "Epoch 33/100\n",
      "149/149 [==============================] - ETA: 0s - loss: 0.3174 - accuracy: 0.8975\n",
      "Epoch 33: val_accuracy did not improve from 0.94222\n",
      "149/149 [==============================] - 29s 192ms/step - loss: 0.3174 - accuracy: 0.8975 - val_loss: 0.2686 - val_accuracy: 0.9222\n",
      "Epoch 34/100\n",
      "149/149 [==============================] - ETA: 0s - loss: 0.3085 - accuracy: 0.9042\n",
      "Epoch 34: val_accuracy did not improve from 0.94222\n",
      "149/149 [==============================] - 29s 192ms/step - loss: 0.3085 - accuracy: 0.9042 - val_loss: 0.3300 - val_accuracy: 0.8978\n",
      "Epoch 35/100\n",
      "149/149 [==============================] - ETA: 0s - loss: 0.3356 - accuracy: 0.8973\n",
      "Epoch 35: val_accuracy did not improve from 0.94222\n",
      "149/149 [==============================] - 29s 192ms/step - loss: 0.3356 - accuracy: 0.8973 - val_loss: 0.2487 - val_accuracy: 0.9378\n",
      "Epoch 36/100\n",
      "149/149 [==============================] - ETA: 0s - loss: 0.3134 - accuracy: 0.9040\n",
      "Epoch 36: val_accuracy did not improve from 0.94222\n",
      "149/149 [==============================] - 29s 192ms/step - loss: 0.3134 - accuracy: 0.9040 - val_loss: 0.2572 - val_accuracy: 0.9378\n",
      "Epoch 37/100\n",
      "149/149 [==============================] - ETA: 0s - loss: 0.2788 - accuracy: 0.9162\n",
      "Epoch 37: val_accuracy did not improve from 0.94222\n",
      "149/149 [==============================] - 28s 190ms/step - loss: 0.2788 - accuracy: 0.9162 - val_loss: 0.2336 - val_accuracy: 0.9400\n",
      "Epoch 38/100\n",
      "149/149 [==============================] - ETA: 0s - loss: 0.2981 - accuracy: 0.9057\n",
      "Epoch 38: val_accuracy did not improve from 0.94222\n",
      "149/149 [==============================] - 29s 193ms/step - loss: 0.2981 - accuracy: 0.9057 - val_loss: 0.2414 - val_accuracy: 0.9267\n",
      "Epoch 39/100\n",
      "149/149 [==============================] - ETA: 0s - loss: 0.2990 - accuracy: 0.9093\n",
      "Epoch 39: val_accuracy improved from 0.94222 to 0.94667, saving model to model\\best_model.keras\n",
      "149/149 [==============================] - 40s 266ms/step - loss: 0.2990 - accuracy: 0.9093 - val_loss: 0.2337 - val_accuracy: 0.9467\n",
      "Epoch 40/100\n",
      "149/149 [==============================] - ETA: 0s - loss: 0.3162 - accuracy: 0.9023\n",
      "Epoch 40: val_accuracy did not improve from 0.94667\n",
      "149/149 [==============================] - 32s 207ms/step - loss: 0.3162 - accuracy: 0.9023 - val_loss: 0.2424 - val_accuracy: 0.9333\n",
      "Epoch 41/100\n",
      "149/149 [==============================] - ETA: 0s - loss: 0.3066 - accuracy: 0.9065\n",
      "Epoch 41: val_accuracy did not improve from 0.94667\n",
      "149/149 [==============================] - 28s 190ms/step - loss: 0.3066 - accuracy: 0.9065 - val_loss: 0.2277 - val_accuracy: 0.9289\n",
      "Epoch 42/100\n",
      "149/149 [==============================] - ETA: 0s - loss: 0.3075 - accuracy: 0.9044\n",
      "Epoch 42: val_accuracy did not improve from 0.94667\n",
      "149/149 [==============================] - 29s 191ms/step - loss: 0.3075 - accuracy: 0.9044 - val_loss: 0.2781 - val_accuracy: 0.9089\n",
      "Epoch 43/100\n",
      "149/149 [==============================] - ETA: 0s - loss: 0.3029 - accuracy: 0.9061\n",
      "Epoch 43: val_accuracy did not improve from 0.94667\n",
      "149/149 [==============================] - 29s 195ms/step - loss: 0.3029 - accuracy: 0.9061 - val_loss: 0.2435 - val_accuracy: 0.9400\n",
      "Epoch 44/100\n",
      "149/149 [==============================] - ETA: 0s - loss: 0.2991 - accuracy: 0.9082\n",
      "Epoch 44: val_accuracy did not improve from 0.94667\n",
      "149/149 [==============================] - 29s 195ms/step - loss: 0.2991 - accuracy: 0.9082 - val_loss: 0.2574 - val_accuracy: 0.9267\n",
      "Epoch 45/100\n",
      "149/149 [==============================] - ETA: 0s - loss: 0.2860 - accuracy: 0.9112\n",
      "Epoch 45: val_accuracy did not improve from 0.94667\n",
      "149/149 [==============================] - 29s 194ms/step - loss: 0.2860 - accuracy: 0.9112 - val_loss: 0.2289 - val_accuracy: 0.9444\n",
      "Epoch 46/100\n",
      "149/149 [==============================] - ETA: 0s - loss: 0.2901 - accuracy: 0.9167\n",
      "Epoch 46: val_accuracy did not improve from 0.94667\n",
      "149/149 [==============================] - 31s 206ms/step - loss: 0.2901 - accuracy: 0.9167 - val_loss: 0.2177 - val_accuracy: 0.9378\n",
      "Epoch 47/100\n",
      "149/149 [==============================] - ETA: 0s - loss: 0.2813 - accuracy: 0.9160\n",
      "Epoch 47: val_accuracy did not improve from 0.94667\n",
      "149/149 [==============================] - 42s 282ms/step - loss: 0.2813 - accuracy: 0.9160 - val_loss: 0.3058 - val_accuracy: 0.9044\n",
      "Epoch 48/100\n",
      "149/149 [==============================] - ETA: 0s - loss: 0.2900 - accuracy: 0.9118\n",
      "Epoch 48: val_accuracy did not improve from 0.94667\n",
      "149/149 [==============================] - 56s 374ms/step - loss: 0.2900 - accuracy: 0.9118 - val_loss: 0.1998 - val_accuracy: 0.9467\n",
      "Epoch 49/100\n",
      "149/149 [==============================] - ETA: 0s - loss: 0.2730 - accuracy: 0.9179\n",
      "Epoch 49: val_accuracy improved from 0.94667 to 0.95111, saving model to model\\best_model.keras\n",
      "149/149 [==============================] - 29s 197ms/step - loss: 0.2730 - accuracy: 0.9179 - val_loss: 0.1919 - val_accuracy: 0.9511\n",
      "Epoch 50/100\n",
      "149/149 [==============================] - ETA: 0s - loss: 0.2886 - accuracy: 0.9129\n",
      "Epoch 50: val_accuracy did not improve from 0.95111\n",
      "149/149 [==============================] - 30s 198ms/step - loss: 0.2886 - accuracy: 0.9129 - val_loss: 0.2318 - val_accuracy: 0.9422\n",
      "Epoch 51/100\n",
      "149/149 [==============================] - ETA: 0s - loss: 0.2885 - accuracy: 0.9116\n",
      "Epoch 51: val_accuracy did not improve from 0.95111\n",
      "149/149 [==============================] - 29s 194ms/step - loss: 0.2885 - accuracy: 0.9116 - val_loss: 0.2112 - val_accuracy: 0.9378\n",
      "Epoch 52/100\n",
      "149/149 [==============================] - ETA: 0s - loss: 0.2886 - accuracy: 0.9181\n",
      "Epoch 52: val_accuracy did not improve from 0.95111\n",
      "149/149 [==============================] - 29s 193ms/step - loss: 0.2886 - accuracy: 0.9181 - val_loss: 0.2720 - val_accuracy: 0.9244\n",
      "Epoch 53/100\n",
      "149/149 [==============================] - ETA: 0s - loss: 0.3021 - accuracy: 0.9080\n",
      "Epoch 53: val_accuracy did not improve from 0.95111\n",
      "149/149 [==============================] - 29s 195ms/step - loss: 0.3021 - accuracy: 0.9080 - val_loss: 0.2411 - val_accuracy: 0.9333\n",
      "Epoch 54/100\n",
      "149/149 [==============================] - ETA: 0s - loss: 0.2851 - accuracy: 0.9167\n",
      "Epoch 54: val_accuracy did not improve from 0.95111\n",
      "149/149 [==============================] - 29s 192ms/step - loss: 0.2851 - accuracy: 0.9167 - val_loss: 0.2077 - val_accuracy: 0.9356\n",
      "Epoch 55/100\n",
      "149/149 [==============================] - ETA: 0s - loss: 0.2543 - accuracy: 0.9264\n",
      "Epoch 55: val_accuracy did not improve from 0.95111\n",
      "149/149 [==============================] - 29s 195ms/step - loss: 0.2543 - accuracy: 0.9264 - val_loss: 0.1762 - val_accuracy: 0.9511\n",
      "Epoch 56/100\n",
      "149/149 [==============================] - ETA: 0s - loss: 0.2650 - accuracy: 0.9281\n",
      "Epoch 56: val_accuracy improved from 0.95111 to 0.95556, saving model to model\\best_model.keras\n",
      "149/149 [==============================] - 29s 197ms/step - loss: 0.2650 - accuracy: 0.9281 - val_loss: 0.1947 - val_accuracy: 0.9556\n",
      "Epoch 57/100\n",
      "149/149 [==============================] - ETA: 0s - loss: 0.2769 - accuracy: 0.9194\n",
      "Epoch 57: val_accuracy did not improve from 0.95556\n",
      "149/149 [==============================] - 29s 192ms/step - loss: 0.2769 - accuracy: 0.9194 - val_loss: 0.2062 - val_accuracy: 0.9556\n",
      "Epoch 58/100\n",
      "149/149 [==============================] - ETA: 0s - loss: 0.3541 - accuracy: 0.9013\n",
      "Epoch 58: val_accuracy did not improve from 0.95556\n",
      "149/149 [==============================] - 29s 192ms/step - loss: 0.3541 - accuracy: 0.9013 - val_loss: 0.2246 - val_accuracy: 0.9444\n",
      "Epoch 59/100\n",
      "149/149 [==============================] - ETA: 0s - loss: 0.2857 - accuracy: 0.9245\n",
      "Epoch 59: val_accuracy did not improve from 0.95556\n",
      "149/149 [==============================] - 29s 194ms/step - loss: 0.2857 - accuracy: 0.9245 - val_loss: 0.2590 - val_accuracy: 0.9378\n",
      "Epoch 60/100\n",
      "149/149 [==============================] - ETA: 0s - loss: 0.2892 - accuracy: 0.9190\n",
      "Epoch 60: val_accuracy did not improve from 0.95556\n",
      "149/149 [==============================] - 29s 194ms/step - loss: 0.2892 - accuracy: 0.9190 - val_loss: 0.2238 - val_accuracy: 0.9356\n",
      "Epoch 61/100\n",
      "149/149 [==============================] - ETA: 0s - loss: 0.2963 - accuracy: 0.9196\n",
      "Epoch 61: val_accuracy did not improve from 0.95556\n",
      "149/149 [==============================] - 29s 194ms/step - loss: 0.2963 - accuracy: 0.9196 - val_loss: 0.3180 - val_accuracy: 0.9111\n",
      "Epoch 62/100\n",
      "149/149 [==============================] - ETA: 0s - loss: 0.3079 - accuracy: 0.9131\n",
      "Epoch 62: val_accuracy did not improve from 0.95556\n",
      "149/149 [==============================] - 29s 191ms/step - loss: 0.3079 - accuracy: 0.9131 - val_loss: 0.2071 - val_accuracy: 0.9444\n",
      "Epoch 63/100\n",
      "149/149 [==============================] - ETA: 0s - loss: 0.2709 - accuracy: 0.9228\n",
      "Epoch 63: val_accuracy did not improve from 0.95556\n",
      "149/149 [==============================] - 29s 193ms/step - loss: 0.2709 - accuracy: 0.9228 - val_loss: 0.2430 - val_accuracy: 0.9400\n",
      "Epoch 64/100\n",
      "149/149 [==============================] - ETA: 0s - loss: 0.2938 - accuracy: 0.9192\n",
      "Epoch 64: val_accuracy did not improve from 0.95556\n",
      "149/149 [==============================] - 29s 193ms/step - loss: 0.2938 - accuracy: 0.9192 - val_loss: 0.2978 - val_accuracy: 0.9200\n",
      "Epoch 65/100\n",
      "149/149 [==============================] - ETA: 0s - loss: 0.2889 - accuracy: 0.9160\n",
      "Epoch 65: val_accuracy did not improve from 0.95556\n",
      "Restoring model weights from the end of the best epoch: 55.\n",
      "149/149 [==============================] - 29s 194ms/step - loss: 0.2889 - accuracy: 0.9160 - val_loss: 0.2629 - val_accuracy: 0.9378\n",
      "Epoch 65: early stopping\n"
     ]
    }
   ],
   "source": [
    "\n",
    "model.compile(optimizer=tf.keras.optimizers.Adam(learning_rate=0.001), loss='categorical_crossentropy', metrics=['accuracy'])\n",
    "\n",
    "# Melatih model\n",
    "history = model.fit(\n",
    "    train_ds,                              # Dataset pelatihan\n",
    "    validation_data=valid_ds,              # Dataset validasi\n",
    "    epochs=100,                             # Maksimal epoch\n",
    "    callbacks=callbacks,                   # Menggunakan callback\n",
    "    verbose=1                              # Progress output\n",
    ")"
   ]
  },
  {
   "cell_type": "markdown",
   "metadata": {},
   "source": [
    "### Plot train history function"
   ]
  },
  {
   "cell_type": "code",
   "execution_count": 17,
   "metadata": {},
   "outputs": [],
   "source": [
    "import matplotlib.pyplot as plt\n",
    "def plot_history(history):\n",
    "    # Plot training & validation loss values\n",
    "    plt.figure(figsize=(12, 5))\n",
    "    \n",
    "    plt.subplot(1, 2, 1)\n",
    "    plt.plot(history.history['loss'], label='Training Loss')\n",
    "    plt.plot(history.history['val_loss'], label='Validation Loss')\n",
    "    plt.title('Training and Validation Loss')\n",
    "    plt.xlabel('Epochs')\n",
    "    plt.ylabel('Loss')\n",
    "    plt.legend()\n",
    "\n",
    "    # Plot training & validation accuracy values\n",
    "    plt.subplot(1, 2, 2)\n",
    "    plt.plot(history.history['accuracy'], label='Training Accuracy')\n",
    "    plt.plot(history.history['val_accuracy'], label='Validation Accuracy')\n",
    "    plt.title('Training and Validation Accuracy')\n",
    "    plt.xlabel('Epochs')\n",
    "    plt.ylabel('Accuracy')\n",
    "    plt.legend()\n",
    "\n",
    "    plt.tight_layout()\n",
    "    plt.show()"
   ]
  },
  {
   "cell_type": "code",
   "execution_count": 18,
   "metadata": {},
   "outputs": [
    {
     "data": {
      "image/png": "[encoded data removed]",
      "text/plain": [
       "<Figure size 1200x500 with 2 Axes>"
      ]
     },
     "metadata": {},
     "output_type": "display_data"
    }
   ],
   "source": [
    "plot_history(history)"
   ]
  },
  {
   "cell_type": "markdown",
   "metadata": {},
   "source": [
    "### Evaluate model"
   ]
  },
  {
   "cell_type": "code",
   "execution_count": null,
   "metadata": {},
   "outputs": [
    {
     "name": "stdout",
     "output_type": "stream",
     "text": [
      "15/15 [==============================] - 1s 72ms/step - loss: 0.2107 - accuracy: 0.9534\n",
      "Test Loss: 0.21069271862506866\n",
      "Test Accuracy: 0.9534367918968201\n"
     ]
    }
   ],
   "source": [
    "\n",
    "import tensorflow as tf\n",
    "import os\n",
    "model_dir = 'model'\n",
    "best_model = tf.keras.models.load_model(os.path.join(model_dir, 'best_model.keras'))\n",
    "\n",
    "#evaluate\n",
    "test_loss, test_accuracy = best_model.evaluate(test_ds)\n",
    "print(f\"Test Loss: {test_loss}\")\n",
    "print(f\"Test Accuracy: {test_accuracy}\")"
   ]
  },
  {
   "cell_type": "markdown",
   "metadata": {},
   "source": [
    "### Evaluate data with test data"
   ]
  },
  {
   "cell_type": "code",
   "execution_count": null,
   "metadata": {},
   "outputs": [
    {
     "name": "stdout",
     "output_type": "stream",
     "text": [
      "11/11 [==============================] - 3s 38ms/step - loss: 0.2208 - accuracy: 0.9432\n",
      "11/11 [==============================] - 1s 45ms/step - loss: 0.2004 - accuracy: 0.9545\n",
      "11/11 [==============================] - 1s 52ms/step - loss: 0.2163 - accuracy: 0.9489\n",
      "Train Loss:  0.2208385020494461\n",
      "Train Accuracy:  0.9431818127632141\n",
      "--------------------\n",
      "Valid Loss:  0.20041890442371368\n",
      "Valid Accuracy:  0.9545454382896423\n",
      "--------------------\n",
      "Test Loss:  0.21632042527198792\n",
      "Test Accuracy:  0.9488636255264282\n"
     ]
    }
   ],
   "source": [
    "ts_length = len(test_df)\n",
    "test_batch_size = max(sorted([ts_length // n for n in range(1, ts_length + 1) if ts_length%n == 0 and ts_length/n <= 80]))\n",
    "test_steps = ts_length // test_batch_size\n",
    "\n",
    "train_score = model.evaluate(train_ds, steps= test_steps, verbose= 1)\n",
    "valid_score = model.evaluate(valid_ds, steps= test_steps, verbose= 1)\n",
    "test_score = model.evaluate(test_ds, steps= test_steps, verbose= 1)\n",
    "\n",
    "print(\"Train Loss: \", train_score[0])\n",
    "print(\"Train Accuracy: \", train_score[1])\n",
    "print('-' * 20)\n",
    "print(\"Valid Loss: \", valid_score[0])\n",
    "print(\"Valid Accuracy: \", valid_score[1])\n",
    "print('-' * 20)\n",
    "print(\"Test Loss: \", test_score[0])\n",
    "print(\"Test Accuracy: \", test_score[1])"
   ]
  },
  {
   "cell_type": "markdown",
   "metadata": {},
   "source": [
    "### Predict image with upload image"
   ]
  },
  {
   "cell_type": "code",
   "execution_count": 1,
   "metadata": {},
   "outputs": [
    {
     "name": "stdout",
     "output_type": "stream",
     "text": [
      "WARNING:tensorflow:From c:\\Users\\Lenovo\\miniconda3\\envs\\tf\\lib\\site-packages\\keras\\src\\losses.py:2976: The name tf.losses.sparse_softmax_cross_entropy is deprecated. Please use tf.compat.v1.losses.sparse_softmax_cross_entropy instead.\n",
      "\n",
      "WARNING:tensorflow:From c:\\Users\\Lenovo\\miniconda3\\envs\\tf\\lib\\site-packages\\keras\\src\\backend.py:1398: The name tf.executing_eagerly_outside_functions is deprecated. Please use tf.compat.v1.executing_eagerly_outside_functions instead.\n",
      "\n",
      "WARNING:tensorflow:From c:\\Users\\Lenovo\\miniconda3\\envs\\tf\\lib\\site-packages\\keras\\src\\layers\\pooling\\max_pooling2d.py:161: The name tf.nn.max_pool is deprecated. Please use tf.nn.max_pool2d instead.\n",
      "\n"
     ]
    },
    {
     "data": {
      "application/vnd.jupyter.widget-view+json": {
       "model_id": "c3effa281e8f48b6851f3b3154fa68a8",
       "version_major": 2,
       "version_minor": 0
      },
      "text/plain": [
       "FileUpload(value=(), accept='image/*', description='Upload', multiple=True)"
      ]
     },
     "metadata": {},
     "output_type": "display_data"
    },
    {
     "data": {
      "application/vnd.jupyter.widget-view+json": {
       "model_id": "256893ff6b634c47b04bb0eaabeade8a",
       "version_major": 2,
       "version_minor": 0
      },
      "text/plain": [
       "Output()"
      ]
     },
     "metadata": {},
     "output_type": "display_data"
    }
   ],
   "source": [
    "import tensorflow as tf\n",
    "import numpy as np\n",
    "from io import BytesIO\n",
    "import ipywidgets as widgets\n",
    "from IPython.display import display\n",
    "\n",
    "# Load the model\n",
    "model = tf.keras.models.load_model('model/best_model.keras')\n",
    "\n",
    "uploader = widgets.FileUpload(accept=\"image/*\", multiple=True)\n",
    "display(uploader)\n",
    "out = widgets.Output()\n",
    "display(out)\n",
    "\n",
    "def file_predict(filename, file, out):\n",
    "    \"\"\" A function for creating the prediction and printing the output.\"\"\"\n",
    "    image = tf.keras.utils.load_img(file, target_size=(224, 224))\n",
    "    image = tf.keras.utils.img_to_array(image)\n",
    "    image = np.expand_dims(image, axis=0)\n",
    "\n",
    "    prediction = model.predict(image, verbose=0)[0]\n",
    "\n",
    "    with out:\n",
    "        print(f'\\nmodel output: {prediction}')\n",
    "        \n",
    "        prediction_index = np.argmax(prediction)\n",
    "        \n",
    "        classes = [\"Blight\", \"Common\", \"Gray\", \"Healthy\"]\n",
    "        \n",
    "        predicted_class = classes[prediction_index]\n",
    "        \n",
    "        print(f'{filename} is {predicted_class}')\n",
    "\n",
    "def on_upload_change(change):\n",
    "    \"\"\" A function for getting files from the widget and running the prediction.\"\"\"\n",
    "    # Get the newly uploaded file(s)\n",
    "    items = change.new\n",
    "    for item in items:  # Loop if there is more than one file uploaded  \n",
    "        file_jpgdata = BytesIO(item.content)\n",
    "        file_predict(item.name, file_jpgdata, out)\n",
    "\n",
    "uploader.observe(on_upload_change, names='value')\n"
   ]
  },
  {
   "cell_type": "markdown",
   "metadata": {},
   "source": [
    "### Save model"
   ]
  },
  {
   "cell_type": "code",
   "execution_count": 7,
   "metadata": {},
   "outputs": [],
   "source": [
    "import tensorflow as tf\n",
    "\n",
    "# Assuming 'model' is your Keras model\n",
    "model = tf.keras.models.load_model('model/best_model.keras')\n",
    "\n",
    "# Save the model in H5 format\n",
    "model.save('model/best_model.h5')"
   ]
  },
  {
   "cell_type": "code",
   "execution_count": null,
   "metadata": {},
   "outputs": [],
   "source": []
  }
 ],
 "metadata": {
  "kernelspec": {
   "display_name": "tf",
   "language": "python",
   "name": "python3"
  },
  "language_info": {
   "codemirror_mode": {
    "name": "ipython",
    "version": 3
   },
   "file_extension": ".py",
   "mimetype": "text/x-python",
   "name": "python",
   "nbconvert_exporter": "python",
   "pygments_lexer": "ipython3",
   "version": "3.9.20"
  }
 },
 "nbformat": 4,
 "nbformat_minor": 2
}
